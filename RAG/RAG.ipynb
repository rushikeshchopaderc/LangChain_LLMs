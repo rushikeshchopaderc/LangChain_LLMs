{
 "cells": [
  {
   "cell_type": "markdown",
   "metadata": {},
   "source": [
    "# RAG PIPELINE WITH VECTOR DATABASE"
   ]
  },
  {
   "cell_type": "markdown",
   "metadata": {},
   "source": [
    "### Step 1: Loading the data "
   ]
  },
  {
   "cell_type": "code",
   "execution_count": 10,
   "metadata": {},
   "outputs": [
    {
     "data": {
      "text/plain": [
       "[Document(metadata={'source': 'info.txt'}, page_content=\"\\nBest Marketing Psychology Books\\nTo study marketing psychology, several books are highly recommended. Here are some of the best ones:\\n\\nInfluence: The Psychology of Persuasion by Robert B. Cialdini: A classic in the field, this book explores the six universal principles of persuasion that drive human behavior.\\nPredictably Irrational by Dan Ariely: This book delves into the hidden forces that shape our decisions, providing insights into consumer behavior and marketing strategies.\\nThinking, Fast and Slow by Daniel Kahneman: A foundational book on cognitive bias and prospect theory, it explains how human decision-making is made up of two distinct systems of thinking.\\nHooked by Nir Eyal: This book provides a framework for creating habit-forming products and understanding the psychology behind consumer engagement.\\nBuyology by Martin Lindstrom: A comprehensive guide to the subconscious mind and its role in consumer decision-making, based on neuroimaging research.\\nThe Choice Factory by Richard Shotton: This book explores 25 behavioral biases that influence consumer purchasing decisions, offering practical tips for marketers.\\nNudge by Richard Thaler: A Nobel Prize-winning author's work on behavioral economics, this book shows how subtle changes in environment can influence human behavior.\\nMade to Stick by Chip and Dan Heath: This book investigates why some ideas endure while others fade away, providing practical advice on making ideas unforgettable and influential.\\nContagious by Jonah Berger: A marketing psychology book that discusses six main topics and how they relate to making products and ideas go viral.\\nAlchemy by Rory Sutherland: This book explores the untraversed terrain of psychological influences and perceptions that play crucial roles in the success of products, brands, and services.\")]"
      ]
     },
     "execution_count": 10,
     "metadata": {},
     "output_type": "execute_result"
    }
   ],
   "source": [
    "# 1.Loading from a text file\n",
    "from langchain_community.document_loaders import TextLoader\n",
    "text=TextLoader('info.txt')\n",
    "text.load()"
   ]
  },
  {
   "cell_type": "code",
   "execution_count": null,
   "metadata": {},
   "outputs": [],
   "source": [
    "# 2.Loading from a web source (web based loaders)\n",
    "from dotenv import load_dotenv\n",
    "import os\n",
    "load_dotenv()\n",
    "os.environ['LANGSMITH_API_KEY'] = os.getenv('LANGSMITH_API_KEY')\n",
    "os.environ['LANGSMITH_TRACING'] = os.getenv('LANGSMITH_TRACING')\n",
    "os.environ['OPENAI_API_KEY'] = os.getenv('OPENAI_API_KEY')\n"
   ]
  },
  {
   "cell_type": "code",
   "execution_count": 36,
   "metadata": {},
   "outputs": [
    {
     "data": {
      "text/plain": [
       "[Document(metadata={'source': 'https://feinternational.com/blog/marketing-psychology-9-strategies-influence-consumers/'}, page_content='Marketing Psychology: 10 Strategies to Influence Consumers in 2021Thomas SmaleJanuary 1, 2021Building a BusinessFE International BlogThis post was updated on 1 January 2021.\\nTo learn about marketing psychology, all marketers should read David McRaney’s You Are Not So Smart. In this book, McRaney highlights the ways in which we’re wired into thinking we are rationale individuals while we are really falling prey to the whims of our psychology. The is also true for marketing psychology and we have put this guide together on nine ways marketers can use this phenomenon to influence consumer behavior.\\n1. Reciprocity Principle\\nThe idea of reciprocity in social psychology is that if I do something positive for you, you will in turn feel more cooperative and it is predicted that you are more likely to do something positive for me. We can’t help it and it’s a social obligation that we’ve all surrendered to whether in our personal, professional or consumer lives.\\nNorbert Schwarz found that even the smallest thing such as a finding a dime can put you in a better mood and make you feel more satisfied with your life. It’s amazing that something with such a small value can create a more positive feeling for the individual who finds it.\\n\\n“It’s not the value of what you find. It’s that something positive happened to you.”\\nNorbert Schwarz – Tweet this\\n\\nTwo points to note:\\n\\nTo create a little happiness and goodwill, the gift be neither extremely valuable, big nor expensive.\\nReciprocity works well when it is also a surprise.\\n\\nAs marketers we should be aware that reciprocity can produce lots of benefits such as gaining new customers, customer retention and customer loyalty.\\nHere is an example of reciprocity from FE International. We give away a very detailed guide to buying an online business. It creates good will, acts as a lead generation tool for potential buyers and also helps educate the market.\\nHere is another example from Hubspot. Free eBooks are fairly common so this novel approach is quite refreshing.\\nI received my free business stock images but in return Hubspot collected some key information about me and my contact details.\\nEarlier we touched upon reciprocity and surprises. For retention and loyalty, after a customer has made a purchase, follow up with a discount code for 10% off their next order or free delivery. Zappos is a company that implemented this by instantly upgrading all orders to next day delivery after the sale had completed. It’s a great way to finish up a positive customer experience and they are more likely to return out of loyalty.\\n\\nKey Takeaway: Give away something first and you will get something back in return. If you can make it a surprise your customers will appreciate it even more. The free gift does not have to be big or expensive either. It’s the thought that counts.\\n\\n2. Don’t Forget the Golden Rule\\nBeing attractive has its benefits and as Harvard University and others of have discovered, it can increase your likeability and your trustworthiness. The same can be said for website design and as marketers we should stick to the conventional rules of beauty. What does that look like though?\\nYou may have heard of the Golden Ratio which is a design concept concerning proportions in areas such as architecture, art and design. Sometimes The Golden Ratio is referred to as the ‘divine proportion’ given its prevalence in nature and depicted as a spiral which is derived from the Fibonacci sequence.  Sea shells, galaxies and hurricanes all spiral following the golden ratio!\\nHow should this be used in website design? The Golden Ratio can be used to determine the most visually appealing font size, proportions, column widths, margins and line heights. Check out this visual guide by Pencil Scoop on understanding and using the golden ratio in web design.\\n\\nKey Takeaway: In the desire to make an attractive or ‘different’ website do not forget or abandon the basic principles of web design.\\n\\n3. Color Psychology\\nColor has a huge impact on our behaviour and should never be underestimated in the context of marketing. Satyendra Singh’s review of color psychology in relation to marketing found that people make up their minds about a product within 90 seconds and 62%-90% of that decision is based on color alone. Color can not only set you apart from competitors but also influence mood and feelings.\\nLet’s start by looking at color and branding of these websites. This test was devised by artist and product designer Marc Hemeon and here are a few examples. Can you guess the brands purely from the color of the buttons? (Answers in the comments!)\\nDid you realise that these brands had monopolized these colors in your mind?\\nColors are a powerful ally to marketers but there is no clear cut answer as to what the best colour is for conversions. One button color might outperform another purely because it contrasts more with the other page elements and not because of the color itself. This is known as the Von Restorff effect which means that if it stands out, it’s given the most attention and remembered.\\nThe name of colors used in marketing also affects how they are perceived. Fancy names do significantly better than their generic counterparts. I’ll take the mocha rather than the brown coffee thanks…\\n\\nKey Takeaway: There is not a one size fits all when it comes to color. The important thing is to test and continue to optimize.\\n\\nIf you want to read more about how colors influence us in different ways, check out this infographic.\\n4. Use the Foot-in-the-Door Technique\\nThe foot-in-the-door concept is all about increasing compliance rates and influencing consumers into making a purchasing decision. Robert Cialdini experimented with this technique with contributions to the American Cancer Society. Two donor requests were made:\\n\\nWould you be willing to help by giving a donation?\\nWould you be willing to help by giving a donation? Every penny will help.\\n\\nWhen using the second variation, people were almost twice as likely to donate. More importantly, people that were asked for a donation with the penny statement did not donate less than the others.\\nHow can you implement this into your marketing strategy? Typically, free trials are a good way to get consumers using your product or service. Once the free trial ends they can upgrade to the paid model.\\nHere’s an example from Moz.com who offer a 30 day free trial to their suite of 12 tools. Payment details are taken before you start the trial so it is less ‘painless’ to move from your free trial to paid.\\nAnother example is Awario who offer their software for free but over the course of the trial the availability of search results diminishes. It gives the user enough of a taste of the product and then encourages them to upgrade to a professional license.\\n\\nA variation of this foot-in-the-door technique was used by Andrew Hansen to resolve sales page abandonment. Upon sales page exit, readers were presented with this offer:\\nSo what was the result? Not only did people take up the $1 offer, but 54% of anyone who took the offer went on to pay for the full course. Think about that, these were people that were going to leave the page anyway and over half of them ended up being paying customers with this foot-in-the-door technique.\\nThe foot-in-the-door technique can be made even more effective by also using the pique technique. Simply put, by piquing someone’s interest you make them more amenable to your request. “Can you spare any change?” is something you might here quite often walking through a major city. “Can you spare 17 cents?” is very specific, would catch your attention and make you more amenable to the request researchers found. Try unusual pricing for first time customers to pique their interest.\\n\\nKey Takeaway: Make the commitment very simple, easy and small to begin with and it will make the customer more compliant in the future.\\n\\n5. Create Scarcity and Urgency\\nIn Robert Cialdini’s book Influence: The Psychology of Persuasion, one of the persuasion techniques is to invoke scarcity and a sense of urgency through time-based scarcity. In marketing terms this could mean having a limited time offer or only a few tickets left like in this example. Conferences such as Traffic & Conversion Summit offer a limited amount of discounted tickets for a short period of time before they go up to full price. It creates both a sense of time bound urgency and scarcity as you are influenced into buying an early bird ticket before they run out.\\nOne of the greatest examples of using scarcity and urgency in marketing is Black Friday. Nerd Wallet found that 25/27 retailers listed at least one product with an identical price as the previous year’s Black Friday ad. This demonstrates how powerful scarcity is if thousands get caught up in Black Friday hysteria and are willing to pay for an older model of a product for the same price as last year.\\n\\nKey Takeaway: Create offers for your products and services that must be taken up urgently or your customers will miss out.\\n\\n6. Create a Tribe and an Enemy\\nWhether you’ve watched an episode of Survivor, worked in a large office or just had lunch in your school days, you’ll be aware of how quickly tribes form. In psychological terms this is known as Social Identity Theory where a person’s sense of self is based on their group memberships. Tajfel, who devised the theory, found that it was easy to divide people in to tribes, increase loyalty to their own tribe and have them ‘discriminate’ against the other group. The same theory can be applied to brand loyalty.\\nThere’s a very clear example of this in action and it goes on in the FE International office to this day… The Mac vs PC debate! On a base level it’s just a computer and yet we’re fiercely loyal to different brands.\\nApple have been incredibly successful at creating a tribe with a strong social identity and a loyal customer base. Check out this old ad from Apple which compares the hip Mac user vs the straight-laced PC user.  No prizes for guessing who gets the girl at the end…\\n\\nKey Takeaway: Create a tribe and an enemy for them to disassociate with to create brand loyalty. Your USP should focus on who your customers are but also who they aren’t.\\n\\n\\n7. Fitt’s Law\\nFitt’s Law is a model concerning human movement and in online marketing terms this means UX and mouse movement. Page load speeds affect conversion rates and so does the time it takes to complete an action. Fitt’s Law has two components to prescribe how long it takes to move a mouse to a desired area:\\n\\nThe distance to the target.\\nThe size of the target.\\n\\nIn simple terms, if you want to increase conversions for sales or signups, either decrease the distance between elements or make buttons larger. Conversely, if you want to deter an action do the opposite. An example of this is from President Barrack Obama’s email campaign. By making the unsubscribe button smaller, both in font size and in characters, unsubscribe numbers dropped.\\n\\n\\nKey Takeaway: Group similar items together to reduce the distance between them and make the more important elements such as the submit or add-to-cart buttons larger.\\n\\n8. Reduce Options\\n“I’ll need a minute.”\\nHave you ever been to a restaurant that had such an extensive menu that you became frozen with indecision? Perhaps you’ve been shopping online and there is that many variations of what look like very similar products with different product codes that you’ve just given up. It’s not just you, its psychology at play.\\nIn a study about choice conducted by Sheena Iyengar, shoppers were offered a free sample of jam. One day there was 24 flavors to choose from and 6 on a different day. With more flavors, 20% more people stopped to take a sample. However, only 3% of those people made a purchase. When only 6 different jams were on offer, 30% of people made a purchase after trying a sample! That’s a huge difference in conversion and a clear indication that less options helps conversions.\\nThis study and subsequent research has implications for your marketing activities. Would reducing options on your sign up form increase conversions? If you had dropdown menus with less options, would it make you website easier to navigate? You need to test this!\\n\\nKey Takeaway: If you’re unsure how many options to give a customer, start with the minimum amount that you need to complete a sale or gain a sign up. You can add more options later. The important thing is to test and track conversion rates.\\n\\n9. Use Social Proof\\nSocial proof is a psychological occurrence where people mimic or are influenced by others to participate in certain behaviors assumed to be correct in a given situation. Within the context of marketing psychology we want customers to participate in behaviors that will lead to a sale or generate a lead. Here are some marketing strategies that can be employed to create social proof:\\nInclude real testimonials on your sales pages from happy customers. That’s right, make sure they are real and unedited. They should also include an image of the customer giving the testimonial as this increases believability. Video testimonials work even better!\\n\\nMedia coverage is a trust signal that builds credibility if displayed on your website. Usually this should be displayed directly on your homepage and on sales pages. Here is an example of a fitness website that shows the logos quite prominently above the fold.\\n\\nIn addition to media coverage, in your footer you should also include trust signals such as memberships, ratings and awards. FE International is a member of the International Business Brokers Association and an Escrow.com Official Partner. We display these logos in our footer to create trust and show legitimacy with our clients.\\n\\nYou can also create social proof from social media. Take this example of Entrepreneur.com (of which Thomas is a contributor), the social buttons at the top of this article indicate the post has over 7000 Facebook Shares and 4000 Tweets. This is clearly a popular post and the audience is highly engaged on this website. Social share buttons, e-mail subscriber counts and Facebook fan boxes all help towards conveying social proof and you social popularity.\\n\\nAre you using marketing psychology?\\n10. Nudge Theory\\nThis is a theory that can be applied in a wide range of areas from sales to politics. The idea is to subtly encourage people to make the “right choice.” Here’s the definition from Richard Thaler, known as the father of Nudge Theory:\\n“A nudge, as we will use the term, is any aspect of the choice architecture that alters people’s behavior in a predictable way without forbidding any options or significantly changing their economic incentives. To count as a mere nudge, the intervention must be easy and cheap to avoid. Nudges are not mandates. Putting fruit at eye level counts as a nudge. Banning junk food does not.”\\nIn the world of business and commerce, Nudge can be seen in a variety of ways. For example, at restaurants or takeouts, you tend to see one option which is significantly more expensive than anything else. The owners are not expecting many customers to buy this particular item but instead make the second most expensive option seem like a bargain.\\nAnother instance can be seen here:\\n\\nThis is a promotion for LTV Conference for people in the SaaS industry. It’s an excellent example of enticing potential buyers to make their purchase earlier, with a focus on the reward of saving 75% on the price. Even the code plays a part, promoting the idea of “LTV friends,” which lends a personal touch.\\nHaving a deep understanding of marketing psychology can make or break your business. Take the choice study mentioned earlier. If you could increase your conversion rate from 3% to 30% just by reducing the options you give customers, what could that do for your business? The key takeaway here is to be continually testing, monitoring results and optimizing. As this article has shown, small tweaks can make a huge difference.\\nFurther Reading:\\n15 Psychological Studies That Will Boost Your Social media Marketing\\n39 Resources for Understanding the Science & Psychology Behind Great Marketing\\nThe Complete Guide to Understanding Consumer Psychology\\n')]"
      ]
     },
     "execution_count": 36,
     "metadata": {},
     "output_type": "execute_result"
    }
   ],
   "source": [
    "from langchain_community.document_loaders import WebBaseLoader\n",
    "import bs4\n",
    "loader=WebBaseLoader('https://feinternational.com/blog/marketing-psychology-9-strategies-influence-consumers/', \n",
    "                    bs_kwargs=dict(parse_only=bs4.SoupStrainer(class_=(\"px-6 mx-auto pt-14 pb-40 max-w-[950px]\"))))\n",
    "docs=loader.load()\n",
    "docs"
   ]
  },
  {
   "cell_type": "code",
   "execution_count": 14,
   "metadata": {},
   "outputs": [
    {
     "data": {
      "text/plain": [
       "[Document(metadata={'source': 'JD.pdf', 'page': 0, 'page_label': '1'}, page_content='Data Scientist \\nLocation: Remote \\nEmployment Type: Full Time \\nDepartment: Engineering \\nReports To: CTO \\n \\nAbout Us - https://hub.xyz/ \\nHub is at the forefront of transforming how creators and advertisers connect. By combining AI-driven \\ninsights with the dynamic possibilities of the creator economy, we’re building a platform that \\nempowers creators and gives advertisers unmatched transparency and ROI. \\nWith groundbreaking features like Squad key trading and AI-based engagement matching, Hub is \\nredefining what’s possible in Web3. Our mission is clear: to unlock the full potential of creators while \\nsetting new standards for innovation in the industry. \\nBut we’re facing an exhilarating challenge that we need your expertise to solve: \\nNow —> How do we accurately and dynamically price creators? \\nThe Problem \\nCreators are the backbone of Hub, and their value is as unique as their individual content. Factors like \\nsocial media engagement, Squad key prices, and market trends are ever-changing, making it \\nincredibly challenging to determine their true worth. \\nThis isn’t just about building yet another pricing model. It’s about creating a system that: \\n\\uf0b7 Rewards creators fairly for their contributions while incentivizing excellence. \\n\\uf0b7 Empowers creators to inspire and reward their community, building stronger connections \\nwith their fans and supporters. \\n\\uf0b7 Adapts dynamically to shifts in social media trends, audience behaviors, and creator \\nperformance. \\n\\uf0b7 Drives liquidity and participation in our Squad key economy by aligning creator value with \\nplatform growth. \\nWe want Hub to be the benchmark for fair, data-driven pricing in the creator economy—and we \\nneed your expertise to make that happen. \\n \\nJob Summary \\nAs a Data Scientist at Hub, you will play a pivotal role in designing and implementing the systems \\nthat determine creator pricing. Your work will directly influence the success of our creators, the \\nsatisfaction of advertisers, and the growth of Hub as the go-to platform in Web3. \\nYou’ll join a fast-paced, innovative environment where your ideas will be heard, your expertise \\nvalued, and your impact felt. '),\n",
       " Document(metadata={'source': 'JD.pdf', 'page': 1, 'page_label': '2'}, page_content='Key Responsibilities \\n\\uf0b7 Develop Data Models: Design and implement data-driven frameworks to dynamically price \\ncreators based on engagement metrics, Squad key prices, market trends, and other key \\nvariables. \\n\\uf0b7 Leverage Machine Learning: Build predictive models to forecast creator performance, \\naudience engagement, and campaign outcomes. \\n\\uf0b7 Analyze Large Datasets: Process and analyze social media metrics, creator activity, and \\ntransactional data to identify trends and opportunities for optimization. \\n\\uf0b7 Collaborate with Engineering Teams: Work closely with backend developers to ensure \\nseamless integration of pricing algorithms into the platform. \\n\\uf0b7 Monitor and Optimize: Continuously evaluate the effectiveness of pricing models, testing \\nand refining based on platform and market data. \\n\\uf0b7 Create Visualizations and Reports: Generate dashboards and reports to communicate \\ninsights and recommendations to stakeholders. \\n\\uf0b7 Innovate Data Pipelines: Design and implement scalable data pipelines for real-time \\nanalytics and decision-making. \\n\\uf0b7 Stay Ahead of Trends: Research advancements in AI, data science, and the creator economy \\nto keep Hub’s platform innovative and competitive. \\n \\nWhat You Bring \\nTechnical Skills \\n\\uf0b7 Advanced experience in data science, machine learning, or econometrics, with a strong \\nfocus on marketplace or dynamic pricing models. \\n\\uf0b7 Deep understanding of social media engagement metrics and their role in the creator \\neconomy. \\n\\uf0b7 Proficiency in tools such as Python, R, TensorFlow, or similar . \\n\\uf0b7 Familiarity with blockchain technology, tokenomics, and Web3 ecosystems (preferred). \\n\\uf0b7 Strong skills in data visualization and conveying insights to cross-functional teams. \\n \\nSoft Skills \\n\\uf0b7 Exceptional problem-solving skills with the ability to tackle ambiguous, complex challenges. \\n\\uf0b7 Strong communication skills and a proven ability to work effectively in cross-functional \\nteams. \\n\\uf0b7 A passion for innovation, creativity, and empowering the creator economy. \\n \\n '),\n",
       " Document(metadata={'source': 'JD.pdf', 'page': 2, 'page_label': '3'}, page_content=' \\n \\nWhy Join Us? \\n\\uf0b7 Make an Impact: Your work will define how creators are valued and shape the future of the \\ncreator economy. \\n\\uf0b7 Grow with Us: Be part of a fast-growing company at the cutting edge of AI, Web3, and \\ncreator-driven innovation. \\n\\uf0b7 Collaborate with Talent: Work alongside a passionate, high-performing team dedicated to \\ntackling big challenges. \\n\\uf0b7 Enjoy Flexibility: Remote work with a dynamic and empowering culture. \\n\\uf0b7 Competitive Benefits: Attractive salary, performance-based incentives, and token bonuses \\ntied to platform growth. \\n \\nBenefits \\n\\uf0b7 Competitive salary and token bonuses. \\n\\uf0b7 Fully remote with flexible working hours. \\n\\uf0b7 Opportunities to shape the direction of a fast-growing platform. \\n\\uf0b7 Professional development opportunities in AI, Web3, and creator economy expertise. \\n\\uf0b7 An inclusive, empowering company culture where your contributions matter . \\n ')]"
      ]
     },
     "execution_count": 14,
     "metadata": {},
     "output_type": "execute_result"
    }
   ],
   "source": [
    "# Loading a pdf\n",
    "from langchain_community.document_loaders import PyPDFLoader\n",
    "loader=PyPDFLoader('JD.pdf')\n",
    "pdf=loader.load()\n",
    "pdf"
   ]
  },
  {
   "cell_type": "markdown",
   "metadata": {},
   "source": [
    "## Step 2: Splitting the data into text chunks"
   ]
  },
  {
   "cell_type": "code",
   "execution_count": 37,
   "metadata": {},
   "outputs": [
    {
     "data": {
      "text/plain": [
       "[Document(metadata={'source': 'https://feinternational.com/blog/marketing-psychology-9-strategies-influence-consumers/'}, page_content='Marketing Psychology: 10 Strategies to Influence Consumers in 2021Thomas SmaleJanuary 1, 2021Building a BusinessFE International BlogThis post was updated on 1 January 2021.\\nTo learn about marketing psychology, all marketers should read David McRaney’s You Are Not So Smart. In this book, McRaney highlights the ways in which we’re wired into thinking we are rationale individuals while we are really falling prey to the whims of our psychology. The is also true for marketing psychology and we have put this guide together on nine ways marketers can use this phenomenon to influence consumer behavior.\\n1. Reciprocity Principle\\nThe idea of reciprocity in social psychology is that if I do something positive for you, you will in turn feel more cooperative and it is predicted that you are more likely to do something positive for me. We can’t help it and it’s a social obligation that we’ve all surrendered to whether in our personal, professional or consumer lives.'),\n",
       " Document(metadata={'source': 'https://feinternational.com/blog/marketing-psychology-9-strategies-influence-consumers/'}, page_content='Norbert Schwarz found that even the smallest thing such as a finding a dime can put you in a better mood and make you feel more satisfied with your life. It’s amazing that something with such a small value can create a more positive feeling for the individual who finds it.'),\n",
       " Document(metadata={'source': 'https://feinternational.com/blog/marketing-psychology-9-strategies-influence-consumers/'}, page_content='“It’s not the value of what you find. It’s that something positive happened to you.”\\nNorbert Schwarz – Tweet this\\n\\nTwo points to note:\\n\\nTo create a little happiness and goodwill, the gift be neither extremely valuable, big nor expensive.\\nReciprocity works well when it is also a surprise.'),\n",
       " Document(metadata={'source': 'https://feinternational.com/blog/marketing-psychology-9-strategies-influence-consumers/'}, page_content='As marketers we should be aware that reciprocity can produce lots of benefits such as gaining new customers, customer retention and customer loyalty.\\nHere is an example of reciprocity from FE International. We give away a very detailed guide to buying an online business. It creates good will, acts as a lead generation tool for potential buyers and also helps educate the market.\\nHere is another example from Hubspot. Free eBooks are fairly common so this novel approach is quite refreshing.\\nI received my free business stock images but in return Hubspot collected some key information about me and my contact details.'),\n",
       " Document(metadata={'source': 'https://feinternational.com/blog/marketing-psychology-9-strategies-influence-consumers/'}, page_content='I received my free business stock images but in return Hubspot collected some key information about me and my contact details.\\nEarlier we touched upon reciprocity and surprises. For retention and loyalty, after a customer has made a purchase, follow up with a discount code for 10% off their next order or free delivery. Zappos is a company that implemented this by instantly upgrading all orders to next day delivery after the sale had completed. It’s a great way to finish up a positive customer experience and they are more likely to return out of loyalty.'),\n",
       " Document(metadata={'source': 'https://feinternational.com/blog/marketing-psychology-9-strategies-influence-consumers/'}, page_content='Key Takeaway: Give away something first and you will get something back in return. If you can make it a surprise your customers will appreciate it even more. The free gift does not have to be big or expensive either. It’s the thought that counts.'),\n",
       " Document(metadata={'source': 'https://feinternational.com/blog/marketing-psychology-9-strategies-influence-consumers/'}, page_content='2. Don’t Forget the Golden Rule\\nBeing attractive has its benefits and as Harvard University and others of have discovered, it can increase your likeability and your trustworthiness. The same can be said for website design and as marketers we should stick to the conventional rules of beauty. What does that look like though?\\nYou may have heard of the Golden Ratio which is a design concept concerning proportions in areas such as architecture, art and design. Sometimes The Golden Ratio is referred to as the ‘divine proportion’ given its prevalence in nature and depicted as a spiral which is derived from the Fibonacci sequence.  Sea shells, galaxies and hurricanes all spiral following the golden ratio!\\nHow should this be used in website design? The Golden Ratio can be used to determine the most visually appealing font size, proportions, column widths, margins and line heights. Check out this visual guide by Pencil Scoop on understanding and using the golden ratio in web design.'),\n",
       " Document(metadata={'source': 'https://feinternational.com/blog/marketing-psychology-9-strategies-influence-consumers/'}, page_content='Key Takeaway: In the desire to make an attractive or ‘different’ website do not forget or abandon the basic principles of web design.'),\n",
       " Document(metadata={'source': 'https://feinternational.com/blog/marketing-psychology-9-strategies-influence-consumers/'}, page_content='3. Color Psychology\\nColor has a huge impact on our behaviour and should never be underestimated in the context of marketing. Satyendra Singh’s review of color psychology in relation to marketing found that people make up their minds about a product within 90 seconds and 62%-90% of that decision is based on color alone. Color can not only set you apart from competitors but also influence mood and feelings.\\nLet’s start by looking at color and branding of these websites. This test was devised by artist and product designer Marc Hemeon and here are a few examples. Can you guess the brands purely from the color of the buttons? (Answers in the comments!)\\nDid you realise that these brands had monopolized these colors in your mind?'),\n",
       " Document(metadata={'source': 'https://feinternational.com/blog/marketing-psychology-9-strategies-influence-consumers/'}, page_content='Did you realise that these brands had monopolized these colors in your mind?\\nColors are a powerful ally to marketers but there is no clear cut answer as to what the best colour is for conversions. One button color might outperform another purely because it contrasts more with the other page elements and not because of the color itself. This is known as the Von Restorff effect which means that if it stands out, it’s given the most attention and remembered.\\nThe name of colors used in marketing also affects how they are perceived. Fancy names do significantly better than their generic counterparts. I’ll take the mocha rather than the brown coffee thanks…'),\n",
       " Document(metadata={'source': 'https://feinternational.com/blog/marketing-psychology-9-strategies-influence-consumers/'}, page_content='Key Takeaway: There is not a one size fits all when it comes to color. The important thing is to test and continue to optimize.\\n\\nIf you want to read more about how colors influence us in different ways, check out this infographic.\\n4. Use the Foot-in-the-Door Technique\\nThe foot-in-the-door concept is all about increasing compliance rates and influencing consumers into making a purchasing decision. Robert Cialdini experimented with this technique with contributions to the American Cancer Society. Two donor requests were made:\\n\\nWould you be willing to help by giving a donation?\\nWould you be willing to help by giving a donation? Every penny will help.'),\n",
       " Document(metadata={'source': 'https://feinternational.com/blog/marketing-psychology-9-strategies-influence-consumers/'}, page_content='Would you be willing to help by giving a donation?\\nWould you be willing to help by giving a donation? Every penny will help.\\n\\nWhen using the second variation, people were almost twice as likely to donate. More importantly, people that were asked for a donation with the penny statement did not donate less than the others.\\nHow can you implement this into your marketing strategy? Typically, free trials are a good way to get consumers using your product or service. Once the free trial ends they can upgrade to the paid model.\\nHere’s an example from Moz.com who offer a 30 day free trial to their suite of 12 tools. Payment details are taken before you start the trial so it is less ‘painless’ to move from your free trial to paid.\\nAnother example is Awario who offer their software for free but over the course of the trial the availability of search results diminishes. It gives the user enough of a taste of the product and then encourages them to upgrade to a professional license.'),\n",
       " Document(metadata={'source': 'https://feinternational.com/blog/marketing-psychology-9-strategies-influence-consumers/'}, page_content='A variation of this foot-in-the-door technique was used by Andrew Hansen to resolve sales page abandonment. Upon sales page exit, readers were presented with this offer:\\nSo what was the result? Not only did people take up the $1 offer, but 54% of anyone who took the offer went on to pay for the full course. Think about that, these were people that were going to leave the page anyway and over half of them ended up being paying customers with this foot-in-the-door technique.\\nThe foot-in-the-door technique can be made even more effective by also using the pique technique. Simply put, by piquing someone’s interest you make them more amenable to your request. “Can you spare any change?” is something you might here quite often walking through a major city. “Can you spare 17 cents?” is very specific, would catch your attention and make you more amenable to the request researchers found. Try unusual pricing for first time customers to pique their interest.'),\n",
       " Document(metadata={'source': 'https://feinternational.com/blog/marketing-psychology-9-strategies-influence-consumers/'}, page_content='Key Takeaway: Make the commitment very simple, easy and small to begin with and it will make the customer more compliant in the future.'),\n",
       " Document(metadata={'source': 'https://feinternational.com/blog/marketing-psychology-9-strategies-influence-consumers/'}, page_content='5. Create Scarcity and Urgency\\nIn Robert Cialdini’s book Influence: The Psychology of Persuasion, one of the persuasion techniques is to invoke scarcity and a sense of urgency through time-based scarcity. In marketing terms this could mean having a limited time offer or only a few tickets left like in this example. Conferences such as Traffic & Conversion Summit offer a limited amount of discounted tickets for a short period of time before they go up to full price. It creates both a sense of time bound urgency and scarcity as you are influenced into buying an early bird ticket before they run out.'),\n",
       " Document(metadata={'source': 'https://feinternational.com/blog/marketing-psychology-9-strategies-influence-consumers/'}, page_content='One of the greatest examples of using scarcity and urgency in marketing is Black Friday. Nerd Wallet found that 25/27 retailers listed at least one product with an identical price as the previous year’s Black Friday ad. This demonstrates how powerful scarcity is if thousands get caught up in Black Friday hysteria and are willing to pay for an older model of a product for the same price as last year.'),\n",
       " Document(metadata={'source': 'https://feinternational.com/blog/marketing-psychology-9-strategies-influence-consumers/'}, page_content='Key Takeaway: Create offers for your products and services that must be taken up urgently or your customers will miss out.'),\n",
       " Document(metadata={'source': 'https://feinternational.com/blog/marketing-psychology-9-strategies-influence-consumers/'}, page_content='6. Create a Tribe and an Enemy\\nWhether you’ve watched an episode of Survivor, worked in a large office or just had lunch in your school days, you’ll be aware of how quickly tribes form. In psychological terms this is known as Social Identity Theory where a person’s sense of self is based on their group memberships. Tajfel, who devised the theory, found that it was easy to divide people in to tribes, increase loyalty to their own tribe and have them ‘discriminate’ against the other group. The same theory can be applied to brand loyalty.\\nThere’s a very clear example of this in action and it goes on in the FE International office to this day… The Mac vs PC debate! On a base level it’s just a computer and yet we’re fiercely loyal to different brands.'),\n",
       " Document(metadata={'source': 'https://feinternational.com/blog/marketing-psychology-9-strategies-influence-consumers/'}, page_content='Apple have been incredibly successful at creating a tribe with a strong social identity and a loyal customer base. Check out this old ad from Apple which compares the hip Mac user vs the straight-laced PC user.  No prizes for guessing who gets the girl at the end…'),\n",
       " Document(metadata={'source': 'https://feinternational.com/blog/marketing-psychology-9-strategies-influence-consumers/'}, page_content='Key Takeaway: Create a tribe and an enemy for them to disassociate with to create brand loyalty. Your USP should focus on who your customers are but also who they aren’t.\\n\\n\\n7. Fitt’s Law\\nFitt’s Law is a model concerning human movement and in online marketing terms this means UX and mouse movement. Page load speeds affect conversion rates and so does the time it takes to complete an action. Fitt’s Law has two components to prescribe how long it takes to move a mouse to a desired area:\\n\\nThe distance to the target.\\nThe size of the target.\\n\\nIn simple terms, if you want to increase conversions for sales or signups, either decrease the distance between elements or make buttons larger. Conversely, if you want to deter an action do the opposite. An example of this is from President Barrack Obama’s email campaign. By making the unsubscribe button smaller, both in font size and in characters, unsubscribe numbers dropped.'),\n",
       " Document(metadata={'source': 'https://feinternational.com/blog/marketing-psychology-9-strategies-influence-consumers/'}, page_content='Key Takeaway: Group similar items together to reduce the distance between them and make the more important elements such as the submit or add-to-cart buttons larger.'),\n",
       " Document(metadata={'source': 'https://feinternational.com/blog/marketing-psychology-9-strategies-influence-consumers/'}, page_content='8. Reduce Options\\n“I’ll need a minute.”\\nHave you ever been to a restaurant that had such an extensive menu that you became frozen with indecision? Perhaps you’ve been shopping online and there is that many variations of what look like very similar products with different product codes that you’ve just given up. It’s not just you, its psychology at play.\\nIn a study about choice conducted by Sheena Iyengar, shoppers were offered a free sample of jam. One day there was 24 flavors to choose from and 6 on a different day. With more flavors, 20% more people stopped to take a sample. However, only 3% of those people made a purchase. When only 6 different jams were on offer, 30% of people made a purchase after trying a sample! That’s a huge difference in conversion and a clear indication that less options helps conversions.'),\n",
       " Document(metadata={'source': 'https://feinternational.com/blog/marketing-psychology-9-strategies-influence-consumers/'}, page_content='This study and subsequent research has implications for your marketing activities. Would reducing options on your sign up form increase conversions? If you had dropdown menus with less options, would it make you website easier to navigate? You need to test this!'),\n",
       " Document(metadata={'source': 'https://feinternational.com/blog/marketing-psychology-9-strategies-influence-consumers/'}, page_content='Key Takeaway: If you’re unsure how many options to give a customer, start with the minimum amount that you need to complete a sale or gain a sign up. You can add more options later. The important thing is to test and track conversion rates.\\n\\n9. Use Social Proof\\nSocial proof is a psychological occurrence where people mimic or are influenced by others to participate in certain behaviors assumed to be correct in a given situation. Within the context of marketing psychology we want customers to participate in behaviors that will lead to a sale or generate a lead. Here are some marketing strategies that can be employed to create social proof:\\nInclude real testimonials on your sales pages from happy customers. That’s right, make sure they are real and unedited. They should also include an image of the customer giving the testimonial as this increases believability. Video testimonials work even better!'),\n",
       " Document(metadata={'source': 'https://feinternational.com/blog/marketing-psychology-9-strategies-influence-consumers/'}, page_content='Media coverage is a trust signal that builds credibility if displayed on your website. Usually this should be displayed directly on your homepage and on sales pages. Here is an example of a fitness website that shows the logos quite prominently above the fold.\\n\\nIn addition to media coverage, in your footer you should also include trust signals such as memberships, ratings and awards. FE International is a member of the International Business Brokers Association and an Escrow.com Official Partner. We display these logos in our footer to create trust and show legitimacy with our clients.'),\n",
       " Document(metadata={'source': 'https://feinternational.com/blog/marketing-psychology-9-strategies-influence-consumers/'}, page_content='You can also create social proof from social media. Take this example of Entrepreneur.com (of which Thomas is a contributor), the social buttons at the top of this article indicate the post has over 7000 Facebook Shares and 4000 Tweets. This is clearly a popular post and the audience is highly engaged on this website. Social share buttons, e-mail subscriber counts and Facebook fan boxes all help towards conveying social proof and you social popularity.'),\n",
       " Document(metadata={'source': 'https://feinternational.com/blog/marketing-psychology-9-strategies-influence-consumers/'}, page_content='Are you using marketing psychology?\\n10. Nudge Theory\\nThis is a theory that can be applied in a wide range of areas from sales to politics. The idea is to subtly encourage people to make the “right choice.” Here’s the definition from Richard Thaler, known as the father of Nudge Theory:\\n“A nudge, as we will use the term, is any aspect of the choice architecture that alters people’s behavior in a predictable way without forbidding any options or significantly changing their economic incentives. To count as a mere nudge, the intervention must be easy and cheap to avoid. Nudges are not mandates. Putting fruit at eye level counts as a nudge. Banning junk food does not.”'),\n",
       " Document(metadata={'source': 'https://feinternational.com/blog/marketing-psychology-9-strategies-influence-consumers/'}, page_content='In the world of business and commerce, Nudge can be seen in a variety of ways. For example, at restaurants or takeouts, you tend to see one option which is significantly more expensive than anything else. The owners are not expecting many customers to buy this particular item but instead make the second most expensive option seem like a bargain.\\nAnother instance can be seen here:'),\n",
       " Document(metadata={'source': 'https://feinternational.com/blog/marketing-psychology-9-strategies-influence-consumers/'}, page_content='This is a promotion for LTV Conference for people in the SaaS industry. It’s an excellent example of enticing potential buyers to make their purchase earlier, with a focus on the reward of saving 75% on the price. Even the code plays a part, promoting the idea of “LTV friends,” which lends a personal touch.\\nHaving a deep understanding of marketing psychology can make or break your business. Take the choice study mentioned earlier. If you could increase your conversion rate from 3% to 30% just by reducing the options you give customers, what could that do for your business? The key takeaway here is to be continually testing, monitoring results and optimizing. As this article has shown, small tweaks can make a huge difference.\\nFurther Reading:\\n15 Psychological Studies That Will Boost Your Social media Marketing\\n39 Resources for Understanding the Science & Psychology Behind Great Marketing\\nThe Complete Guide to Understanding Consumer Psychology')]"
      ]
     },
     "execution_count": 37,
     "metadata": {},
     "output_type": "execute_result"
    }
   ],
   "source": [
    "from langchain.text_splitter import RecursiveCharacterTextSplitter\n",
    "splitter= RecursiveCharacterTextSplitter(chunk_size=1000, chunk_overlap=200)\n",
    "chunk_documents=splitter.split_documents(docs)\n",
    "chunk_documents"
   ]
  },
  {
   "cell_type": "markdown",
   "metadata": {},
   "source": [
    "## Step 3: Creating vector embeddings of the text chunks and stroing it in the form of a vector database"
   ]
  },
  {
   "cell_type": "code",
   "execution_count": 49,
   "metadata": {},
   "outputs": [
    {
     "data": {
      "text/plain": [
       "<langchain_community.vectorstores.faiss.FAISS at 0x118ba56d0>"
      ]
     },
     "execution_count": 49,
     "metadata": {},
     "output_type": "execute_result"
    }
   ],
   "source": [
    "# Vector Embeddings and vector search\n",
    "from langchain_community.embeddings import OllamaEmbeddings\n",
    "from langchain_community.embeddings import OpenAIEmbeddings\n",
    "from langchain_community.vectorstores import Weaviate\n",
    "from langchain_community.vectorstores import FAISS\n",
    "# from langchain_community.vectorstores import FAISS\n",
    "\n",
    "db=FAISS.from_documents(chunk_documents,OllamaEmbeddings(model='deepseek-r1:1.5b'))\n",
    "db"
   ]
  },
  {
   "cell_type": "code",
   "execution_count": 43,
   "metadata": {},
   "outputs": [
    {
     "data": {
      "text/plain": [
       "'In the world of business and commerce, Nudge can be seen in a variety of ways. For example, at restaurants or takeouts, you tend to see one option which is significantly more expensive than anything else. The owners are not expecting many customers to buy this particular item but instead make the second most expensive option seem like a bargain.\\nAnother instance can be seen here:'"
      ]
     },
     "execution_count": 43,
     "metadata": {},
     "output_type": "execute_result"
    }
   ],
   "source": [
    "# Performing similarity search on the database\n",
    "query=\"Color has a huge impact on our behaviour and should never be underestimated in the context of marketing\"\n",
    "retrieved_result=db.similarity_search(query)\n",
    "retrieved_result[0].page_content"
   ]
  },
  {
   "cell_type": "markdown",
   "metadata": {},
   "source": [
    "## Step 4: Retriever and Chain using LangChain"
   ]
  },
  {
   "cell_type": "code",
   "execution_count": 54,
   "metadata": {},
   "outputs": [],
   "source": [
    "# Design ChatPrompt Template\n",
    "#Use this website link to get free templates https://promptmatic.ai/prompts \n",
    "\n",
    "from langchain.prompts import ChatPromptTemplate\n",
    "prompt=ChatPromptTemplate.from_template(\"\"\"\n",
    "Answer the following question based on the context provided.\n",
    "Think step-by-step before providing a detailed answer\n",
    "\n",
    "<context>                                        \n",
    "{context}\n",
    "</context>\n",
    "\n",
    "Question: {input}\n",
    "\"\"\")"
   ]
  },
  {
   "cell_type": "code",
   "execution_count": 55,
   "metadata": {},
   "outputs": [
    {
     "data": {
      "text/plain": [
       "OllamaLLM(model='deepseek-r1:1.5b')"
      ]
     },
     "execution_count": 55,
     "metadata": {},
     "output_type": "execute_result"
    }
   ],
   "source": [
    "from langchain_ollama import OllamaLLM\n",
    "llm=OllamaLLM(model=\"deepseek-r1:1.5b\")\n",
    "llm"
   ]
  },
  {
   "cell_type": "code",
   "execution_count": 56,
   "metadata": {},
   "outputs": [
    {
     "data": {
      "text/plain": [
       "RunnableBinding(bound=RunnableBinding(bound=RunnableAssign(mapper={\n",
       "  context: RunnableLambda(format_docs)\n",
       "}), kwargs={}, config={'run_name': 'format_inputs'}, config_factories=[])\n",
       "| ChatPromptTemplate(input_variables=['context', 'input'], input_types={}, partial_variables={}, messages=[HumanMessagePromptTemplate(prompt=PromptTemplate(input_variables=['context', 'input'], input_types={}, partial_variables={}, template='\\nAnswer the following question based on the context provided.\\nThink step-by-step before providing a detailed answer\\n\\n<context>                                        \\n{context}\\n</context>\\n\\nQuestion: {input}\\n'), additional_kwargs={})])\n",
       "| OllamaLLM(model='deepseek-r1:1.5b')\n",
       "| StrOutputParser(), kwargs={}, config={'run_name': 'stuff_documents_chain'}, config_factories=[])"
      ]
     },
     "execution_count": 56,
     "metadata": {},
     "output_type": "execute_result"
    }
   ],
   "source": [
    "from langchain.chains.combine_documents import create_stuff_documents_chain\n",
    "document_chain= create_stuff_documents_chain(llm, prompt)\n",
    "document_chain"
   ]
  },
  {
   "cell_type": "code",
   "execution_count": 57,
   "metadata": {},
   "outputs": [
    {
     "data": {
      "text/plain": [
       "VectorStoreRetriever(tags=['FAISS', 'OllamaEmbeddings'], vectorstore=<langchain_community.vectorstores.faiss.FAISS object at 0x118ba56d0>, search_kwargs={})"
      ]
     },
     "execution_count": 57,
     "metadata": {},
     "output_type": "execute_result"
    }
   ],
   "source": [
    "# Using Retriever and Chain -Retrievers are used when you have to perform similarity search on the database through the chain\n",
    "# On the other hand, you can use Agents when you have multiple sources of loading information and can't define a chain because the information could be present in any of these sources\n",
    "\"\"\"\n",
    "A retriever is an interface that returns documents given an unstructured query. It is more general than a vector store. A retriever \n",
    "does not need to be able to store documents, only to return (or retrieve) them. Retrievers can be created from vector stores\n",
    "\n",
    "\"\"\"\n",
    "\n",
    "retriever= db.as_retriever()\n",
    "retriever\n"
   ]
  },
  {
   "cell_type": "code",
   "execution_count": 58,
   "metadata": {},
   "outputs": [],
   "source": [
    "# Making a retrieval chain\n",
    "\"\"\"\n",
    "Retrieval Chain: This chain takes in a user enquiry, which is then passed to the retriever to fetch thre relevant documents.\n",
    "Those documents and the original input are hence passed to the LLM to get a response\n",
    "\n",
    "\"\"\"\n",
    "from langchain.chains import create_retrieval_chain\n",
    "retrieval_chain=create_retrieval_chain(retriever,document_chain)\n"
   ]
  },
  {
   "cell_type": "code",
   "execution_count": 61,
   "metadata": {},
   "outputs": [],
   "source": [
    "response=retrieval_chain.invoke({\"input\":\"Reciprocity Principle\"})"
   ]
  },
  {
   "cell_type": "code",
   "execution_count": 62,
   "metadata": {},
   "outputs": [
    {
     "data": {
      "text/plain": [
       "'This is a promotion for LTV Conference for people in the SaaS industry. It’s an excellent example of enticing potential buyers to make their purchase earlier, with a focus on the reward of saving 75% on the price. Even the code plays a part, promoting the idea of “LTV friends,” which lends a personal touch.\\nHaving a deep understanding of marketing psychology can make or break your business. Take the choice study mentioned earlier. If you could increase your conversion rate from 3% to 30% just by reducing the options you give customers, what could that do for your business? The key takeaway here is to be continually testing, monitoring results and optimizing. As this article has shown, small tweaks can make a huge difference.\\nFurther Reading:\\n15 Psychological Studies That Will Boost Your Social media Marketing\\n39 Resources for Understanding the Science & Psychology Behind Great Marketing\\nThe Complete Guide to Understanding Consumer Psychology'"
      ]
     },
     "execution_count": 62,
     "metadata": {},
     "output_type": "execute_result"
    }
   ],
   "source": [
    "response[\"context\"][0].page_content"
   ]
  },
  {
   "cell_type": "code",
   "execution_count": null,
   "metadata": {},
   "outputs": [],
   "source": []
  }
 ],
 "metadata": {
  "kernelspec": {
   "display_name": ".venv",
   "language": "python",
   "name": "python3"
  },
  "language_info": {
   "codemirror_mode": {
    "name": "ipython",
    "version": 3
   },
   "file_extension": ".py",
   "mimetype": "text/x-python",
   "name": "python",
   "nbconvert_exporter": "python",
   "pygments_lexer": "ipython3",
   "version": "3.13.0"
  }
 },
 "nbformat": 4,
 "nbformat_minor": 2
}
